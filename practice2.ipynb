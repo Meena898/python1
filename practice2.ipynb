{
 "cells": [
  {
   "cell_type": "code",
   "execution_count": 4,
   "id": "1649ca33-93a3-40d9-96f0-f88ccca4e367",
   "metadata": {},
   "outputs": [],
   "source": [
    "a=10\n",
    "b=12"
   ]
  },
  {
   "cell_type": "code",
   "execution_count": 6,
   "id": "793d7601-6e37-4258-a67c-3ae0bda1e8b2",
   "metadata": {},
   "outputs": [
    {
     "data": {
      "text/plain": [
       "120"
      ]
     },
     "execution_count": 6,
     "metadata": {},
     "output_type": "execute_result"
    }
   ],
   "source": [
    "d=a*b\n",
    "d"
   ]
  },
  {
   "cell_type": "code",
   "execution_count": 8,
   "id": "850924f5-4cbc-476b-b88f-78f1ae416768",
   "metadata": {},
   "outputs": [],
   "source": [
    "a=10\n",
    "b=12"
   ]
  },
  {
   "cell_type": "code",
   "execution_count": 10,
   "id": "73454f3a-9965-483f-8bcd-0c4389456805",
   "metadata": {},
   "outputs": [
    {
     "data": {
      "text/plain": [
       "0.8333333333333334"
      ]
     },
     "execution_count": 10,
     "metadata": {},
     "output_type": "execute_result"
    }
   ],
   "source": [
    "z=a/b\n",
    "z"
   ]
  },
  {
   "cell_type": "code",
   "execution_count": 12,
   "id": "96c850f6-a460-4ef4-abde-c5ff20d93945",
   "metadata": {},
   "outputs": [
    {
     "data": {
      "text/plain": [
       "float"
      ]
     },
     "execution_count": 12,
     "metadata": {},
     "output_type": "execute_result"
    }
   ],
   "source": [
    "type(z)"
   ]
  },
  {
   "cell_type": "code",
   "execution_count": 14,
   "id": "6f961247-3ab8-48d9-a80e-69b7bd256fa4",
   "metadata": {},
   "outputs": [],
   "source": [
    "a=20\n",
    "b=30"
   ]
  },
  {
   "cell_type": "code",
   "execution_count": 16,
   "id": "6a130b38-cae9-4cdb-9b2a-1d1520b9859a",
   "metadata": {},
   "outputs": [
    {
     "data": {
      "text/plain": [
       "0"
      ]
     },
     "execution_count": 16,
     "metadata": {},
     "output_type": "execute_result"
    }
   ],
   "source": [
    "z=a//b\n",
    "z"
   ]
  },
  {
   "cell_type": "code",
   "execution_count": 18,
   "id": "2f8352d5-84d9-45cb-a102-dc057c20054f",
   "metadata": {},
   "outputs": [],
   "source": [
    "a=10\n",
    "b=11\n",
    "c=12"
   ]
  },
  {
   "cell_type": "code",
   "execution_count": 20,
   "id": "0a6b96cd-c06a-4799-ba6f-429db0fc69df",
   "metadata": {},
   "outputs": [
    {
     "data": {
      "text/plain": [
       "10"
      ]
     },
     "execution_count": 20,
     "metadata": {},
     "output_type": "execute_result"
    }
   ],
   "source": [
    "z=a%b%c\n",
    "z"
   ]
  },
  {
   "cell_type": "code",
   "execution_count": 22,
   "id": "d616a2a7-46dc-4113-b016-76b2fe18938e",
   "metadata": {},
   "outputs": [],
   "source": [
    "a=50\n",
    "b=40"
   ]
  },
  {
   "cell_type": "code",
   "execution_count": 24,
   "id": "1a507bb6-6a7e-4669-b470-5dfbcda65cc4",
   "metadata": {},
   "outputs": [
    {
     "data": {
      "text/plain": [
       "False"
      ]
     },
     "execution_count": 24,
     "metadata": {},
     "output_type": "execute_result"
    }
   ],
   "source": [
    "(a>b)\n",
    "(a>100)"
   ]
  },
  {
   "cell_type": "code",
   "execution_count": 26,
   "id": "89fa8efa-4064-4899-a88e-58ad4215b18a",
   "metadata": {},
   "outputs": [
    {
     "data": {
      "text/plain": [
       "True"
      ]
     },
     "execution_count": 26,
     "metadata": {},
     "output_type": "execute_result"
    }
   ],
   "source": [
    "(a>b)\n",
    "(a>30)"
   ]
  },
  {
   "cell_type": "code",
   "execution_count": 30,
   "id": "df53c248-4990-4862-8d87-cc31c081ab4d",
   "metadata": {},
   "outputs": [
    {
     "data": {
      "text/plain": [
       "False"
      ]
     },
     "execution_count": 30,
     "metadata": {},
     "output_type": "execute_result"
    }
   ],
   "source": [
    "(a>b)\n",
    "(a==b)"
   ]
  },
  {
   "cell_type": "code",
   "execution_count": 1,
   "id": "ffcc9d00-28e2-406b-84ff-f01832322795",
   "metadata": {},
   "outputs": [],
   "source": [
    "import pandas as pd\n",
    "import seaborn as sns"
   ]
  },
  {
   "cell_type": "code",
   "execution_count": 3,
   "id": "2472017a-fcc7-4ee6-97b6-252a5f4108dc",
   "metadata": {},
   "outputs": [
    {
     "data": {
      "text/plain": [
       "['anagrams',\n",
       " 'anscombe',\n",
       " 'attention',\n",
       " 'brain_networks',\n",
       " 'car_crashes',\n",
       " 'diamonds',\n",
       " 'dots',\n",
       " 'dowjones',\n",
       " 'exercise',\n",
       " 'flights',\n",
       " 'fmri',\n",
       " 'geyser',\n",
       " 'glue',\n",
       " 'healthexp',\n",
       " 'iris',\n",
       " 'mpg',\n",
       " 'penguins',\n",
       " 'planets',\n",
       " 'seaice',\n",
       " 'taxis',\n",
       " 'tips',\n",
       " 'titanic']"
      ]
     },
     "execution_count": 3,
     "metadata": {},
     "output_type": "execute_result"
    }
   ],
   "source": [
    "\n",
    "sns.get_dataset_names()"
   ]
  },
  {
   "cell_type": "code",
   "execution_count": 5,
   "id": "d7ddc81f-7879-418a-a483-4b76083dd593",
   "metadata": {},
   "outputs": [
    {
     "data": {
      "text/html": [
       "<div>\n",
       "<style scoped>\n",
       "    .dataframe tbody tr th:only-of-type {\n",
       "        vertical-align: middle;\n",
       "    }\n",
       "\n",
       "    .dataframe tbody tr th {\n",
       "        vertical-align: top;\n",
       "    }\n",
       "\n",
       "    .dataframe thead th {\n",
       "        text-align: right;\n",
       "    }\n",
       "</style>\n",
       "<table border=\"1\" class=\"dataframe\">\n",
       "  <thead>\n",
       "    <tr style=\"text-align: right;\">\n",
       "      <th></th>\n",
       "      <th>sepal_length</th>\n",
       "      <th>sepal_width</th>\n",
       "      <th>petal_length</th>\n",
       "      <th>petal_width</th>\n",
       "      <th>species</th>\n",
       "    </tr>\n",
       "  </thead>\n",
       "  <tbody>\n",
       "    <tr>\n",
       "      <th>0</th>\n",
       "      <td>5.1</td>\n",
       "      <td>3.5</td>\n",
       "      <td>1.4</td>\n",
       "      <td>0.2</td>\n",
       "      <td>setosa</td>\n",
       "    </tr>\n",
       "    <tr>\n",
       "      <th>1</th>\n",
       "      <td>4.9</td>\n",
       "      <td>3.0</td>\n",
       "      <td>1.4</td>\n",
       "      <td>0.2</td>\n",
       "      <td>setosa</td>\n",
       "    </tr>\n",
       "    <tr>\n",
       "      <th>2</th>\n",
       "      <td>4.7</td>\n",
       "      <td>3.2</td>\n",
       "      <td>1.3</td>\n",
       "      <td>0.2</td>\n",
       "      <td>setosa</td>\n",
       "    </tr>\n",
       "    <tr>\n",
       "      <th>3</th>\n",
       "      <td>4.6</td>\n",
       "      <td>3.1</td>\n",
       "      <td>1.5</td>\n",
       "      <td>0.2</td>\n",
       "      <td>setosa</td>\n",
       "    </tr>\n",
       "    <tr>\n",
       "      <th>4</th>\n",
       "      <td>5.0</td>\n",
       "      <td>3.6</td>\n",
       "      <td>1.4</td>\n",
       "      <td>0.2</td>\n",
       "      <td>setosa</td>\n",
       "    </tr>\n",
       "    <tr>\n",
       "      <th>...</th>\n",
       "      <td>...</td>\n",
       "      <td>...</td>\n",
       "      <td>...</td>\n",
       "      <td>...</td>\n",
       "      <td>...</td>\n",
       "    </tr>\n",
       "    <tr>\n",
       "      <th>145</th>\n",
       "      <td>6.7</td>\n",
       "      <td>3.0</td>\n",
       "      <td>5.2</td>\n",
       "      <td>2.3</td>\n",
       "      <td>virginica</td>\n",
       "    </tr>\n",
       "    <tr>\n",
       "      <th>146</th>\n",
       "      <td>6.3</td>\n",
       "      <td>2.5</td>\n",
       "      <td>5.0</td>\n",
       "      <td>1.9</td>\n",
       "      <td>virginica</td>\n",
       "    </tr>\n",
       "    <tr>\n",
       "      <th>147</th>\n",
       "      <td>6.5</td>\n",
       "      <td>3.0</td>\n",
       "      <td>5.2</td>\n",
       "      <td>2.0</td>\n",
       "      <td>virginica</td>\n",
       "    </tr>\n",
       "    <tr>\n",
       "      <th>148</th>\n",
       "      <td>6.2</td>\n",
       "      <td>3.4</td>\n",
       "      <td>5.4</td>\n",
       "      <td>2.3</td>\n",
       "      <td>virginica</td>\n",
       "    </tr>\n",
       "    <tr>\n",
       "      <th>149</th>\n",
       "      <td>5.9</td>\n",
       "      <td>3.0</td>\n",
       "      <td>5.1</td>\n",
       "      <td>1.8</td>\n",
       "      <td>virginica</td>\n",
       "    </tr>\n",
       "  </tbody>\n",
       "</table>\n",
       "<p>150 rows × 5 columns</p>\n",
       "</div>"
      ],
      "text/plain": [
       "     sepal_length  sepal_width  petal_length  petal_width    species\n",
       "0             5.1          3.5           1.4          0.2     setosa\n",
       "1             4.9          3.0           1.4          0.2     setosa\n",
       "2             4.7          3.2           1.3          0.2     setosa\n",
       "3             4.6          3.1           1.5          0.2     setosa\n",
       "4             5.0          3.6           1.4          0.2     setosa\n",
       "..            ...          ...           ...          ...        ...\n",
       "145           6.7          3.0           5.2          2.3  virginica\n",
       "146           6.3          2.5           5.0          1.9  virginica\n",
       "147           6.5          3.0           5.2          2.0  virginica\n",
       "148           6.2          3.4           5.4          2.3  virginica\n",
       "149           5.9          3.0           5.1          1.8  virginica\n",
       "\n",
       "[150 rows x 5 columns]"
      ]
     },
     "execution_count": 5,
     "metadata": {},
     "output_type": "execute_result"
    }
   ],
   "source": [
    "sns.load_dataset('iris')"
   ]
  },
  {
   "cell_type": "code",
   "execution_count": 9,
   "id": "9f367dc6-55a2-4a61-8c40-9e4045ab59bd",
   "metadata": {},
   "outputs": [
    {
     "data": {
      "text/html": [
       "<div>\n",
       "<style scoped>\n",
       "    .dataframe tbody tr th:only-of-type {\n",
       "        vertical-align: middle;\n",
       "    }\n",
       "\n",
       "    .dataframe tbody tr th {\n",
       "        vertical-align: top;\n",
       "    }\n",
       "\n",
       "    .dataframe thead th {\n",
       "        text-align: right;\n",
       "    }\n",
       "</style>\n",
       "<table border=\"1\" class=\"dataframe\">\n",
       "  <thead>\n",
       "    <tr style=\"text-align: right;\">\n",
       "      <th></th>\n",
       "      <th>pickup</th>\n",
       "      <th>dropoff</th>\n",
       "      <th>passengers</th>\n",
       "      <th>distance</th>\n",
       "      <th>fare</th>\n",
       "      <th>tip</th>\n",
       "      <th>tolls</th>\n",
       "      <th>total</th>\n",
       "      <th>color</th>\n",
       "      <th>payment</th>\n",
       "      <th>pickup_zone</th>\n",
       "      <th>dropoff_zone</th>\n",
       "      <th>pickup_borough</th>\n",
       "      <th>dropoff_borough</th>\n",
       "    </tr>\n",
       "  </thead>\n",
       "  <tbody>\n",
       "    <tr>\n",
       "      <th>0</th>\n",
       "      <td>2019-03-23 20:21:09</td>\n",
       "      <td>2019-03-23 20:27:24</td>\n",
       "      <td>1</td>\n",
       "      <td>1.60</td>\n",
       "      <td>7.0</td>\n",
       "      <td>2.15</td>\n",
       "      <td>0.0</td>\n",
       "      <td>12.95</td>\n",
       "      <td>yellow</td>\n",
       "      <td>credit card</td>\n",
       "      <td>Lenox Hill West</td>\n",
       "      <td>UN/Turtle Bay South</td>\n",
       "      <td>Manhattan</td>\n",
       "      <td>Manhattan</td>\n",
       "    </tr>\n",
       "    <tr>\n",
       "      <th>1</th>\n",
       "      <td>2019-03-04 16:11:55</td>\n",
       "      <td>2019-03-04 16:19:00</td>\n",
       "      <td>1</td>\n",
       "      <td>0.79</td>\n",
       "      <td>5.0</td>\n",
       "      <td>0.00</td>\n",
       "      <td>0.0</td>\n",
       "      <td>9.30</td>\n",
       "      <td>yellow</td>\n",
       "      <td>cash</td>\n",
       "      <td>Upper West Side South</td>\n",
       "      <td>Upper West Side South</td>\n",
       "      <td>Manhattan</td>\n",
       "      <td>Manhattan</td>\n",
       "    </tr>\n",
       "    <tr>\n",
       "      <th>2</th>\n",
       "      <td>2019-03-27 17:53:01</td>\n",
       "      <td>2019-03-27 18:00:25</td>\n",
       "      <td>1</td>\n",
       "      <td>1.37</td>\n",
       "      <td>7.5</td>\n",
       "      <td>2.36</td>\n",
       "      <td>0.0</td>\n",
       "      <td>14.16</td>\n",
       "      <td>yellow</td>\n",
       "      <td>credit card</td>\n",
       "      <td>Alphabet City</td>\n",
       "      <td>West Village</td>\n",
       "      <td>Manhattan</td>\n",
       "      <td>Manhattan</td>\n",
       "    </tr>\n",
       "    <tr>\n",
       "      <th>3</th>\n",
       "      <td>2019-03-10 01:23:59</td>\n",
       "      <td>2019-03-10 01:49:51</td>\n",
       "      <td>1</td>\n",
       "      <td>7.70</td>\n",
       "      <td>27.0</td>\n",
       "      <td>6.15</td>\n",
       "      <td>0.0</td>\n",
       "      <td>36.95</td>\n",
       "      <td>yellow</td>\n",
       "      <td>credit card</td>\n",
       "      <td>Hudson Sq</td>\n",
       "      <td>Yorkville West</td>\n",
       "      <td>Manhattan</td>\n",
       "      <td>Manhattan</td>\n",
       "    </tr>\n",
       "    <tr>\n",
       "      <th>4</th>\n",
       "      <td>2019-03-30 13:27:42</td>\n",
       "      <td>2019-03-30 13:37:14</td>\n",
       "      <td>3</td>\n",
       "      <td>2.16</td>\n",
       "      <td>9.0</td>\n",
       "      <td>1.10</td>\n",
       "      <td>0.0</td>\n",
       "      <td>13.40</td>\n",
       "      <td>yellow</td>\n",
       "      <td>credit card</td>\n",
       "      <td>Midtown East</td>\n",
       "      <td>Yorkville West</td>\n",
       "      <td>Manhattan</td>\n",
       "      <td>Manhattan</td>\n",
       "    </tr>\n",
       "    <tr>\n",
       "      <th>...</th>\n",
       "      <td>...</td>\n",
       "      <td>...</td>\n",
       "      <td>...</td>\n",
       "      <td>...</td>\n",
       "      <td>...</td>\n",
       "      <td>...</td>\n",
       "      <td>...</td>\n",
       "      <td>...</td>\n",
       "      <td>...</td>\n",
       "      <td>...</td>\n",
       "      <td>...</td>\n",
       "      <td>...</td>\n",
       "      <td>...</td>\n",
       "      <td>...</td>\n",
       "    </tr>\n",
       "    <tr>\n",
       "      <th>6428</th>\n",
       "      <td>2019-03-31 09:51:53</td>\n",
       "      <td>2019-03-31 09:55:27</td>\n",
       "      <td>1</td>\n",
       "      <td>0.75</td>\n",
       "      <td>4.5</td>\n",
       "      <td>1.06</td>\n",
       "      <td>0.0</td>\n",
       "      <td>6.36</td>\n",
       "      <td>green</td>\n",
       "      <td>credit card</td>\n",
       "      <td>East Harlem North</td>\n",
       "      <td>Central Harlem North</td>\n",
       "      <td>Manhattan</td>\n",
       "      <td>Manhattan</td>\n",
       "    </tr>\n",
       "    <tr>\n",
       "      <th>6429</th>\n",
       "      <td>2019-03-31 17:38:00</td>\n",
       "      <td>2019-03-31 18:34:23</td>\n",
       "      <td>1</td>\n",
       "      <td>18.74</td>\n",
       "      <td>58.0</td>\n",
       "      <td>0.00</td>\n",
       "      <td>0.0</td>\n",
       "      <td>58.80</td>\n",
       "      <td>green</td>\n",
       "      <td>credit card</td>\n",
       "      <td>Jamaica</td>\n",
       "      <td>East Concourse/Concourse Village</td>\n",
       "      <td>Queens</td>\n",
       "      <td>Bronx</td>\n",
       "    </tr>\n",
       "    <tr>\n",
       "      <th>6430</th>\n",
       "      <td>2019-03-23 22:55:18</td>\n",
       "      <td>2019-03-23 23:14:25</td>\n",
       "      <td>1</td>\n",
       "      <td>4.14</td>\n",
       "      <td>16.0</td>\n",
       "      <td>0.00</td>\n",
       "      <td>0.0</td>\n",
       "      <td>17.30</td>\n",
       "      <td>green</td>\n",
       "      <td>cash</td>\n",
       "      <td>Crown Heights North</td>\n",
       "      <td>Bushwick North</td>\n",
       "      <td>Brooklyn</td>\n",
       "      <td>Brooklyn</td>\n",
       "    </tr>\n",
       "    <tr>\n",
       "      <th>6431</th>\n",
       "      <td>2019-03-04 10:09:25</td>\n",
       "      <td>2019-03-04 10:14:29</td>\n",
       "      <td>1</td>\n",
       "      <td>1.12</td>\n",
       "      <td>6.0</td>\n",
       "      <td>0.00</td>\n",
       "      <td>0.0</td>\n",
       "      <td>6.80</td>\n",
       "      <td>green</td>\n",
       "      <td>credit card</td>\n",
       "      <td>East New York</td>\n",
       "      <td>East Flatbush/Remsen Village</td>\n",
       "      <td>Brooklyn</td>\n",
       "      <td>Brooklyn</td>\n",
       "    </tr>\n",
       "    <tr>\n",
       "      <th>6432</th>\n",
       "      <td>2019-03-13 19:31:22</td>\n",
       "      <td>2019-03-13 19:48:02</td>\n",
       "      <td>1</td>\n",
       "      <td>3.85</td>\n",
       "      <td>15.0</td>\n",
       "      <td>3.36</td>\n",
       "      <td>0.0</td>\n",
       "      <td>20.16</td>\n",
       "      <td>green</td>\n",
       "      <td>credit card</td>\n",
       "      <td>Boerum Hill</td>\n",
       "      <td>Windsor Terrace</td>\n",
       "      <td>Brooklyn</td>\n",
       "      <td>Brooklyn</td>\n",
       "    </tr>\n",
       "  </tbody>\n",
       "</table>\n",
       "<p>6433 rows × 14 columns</p>\n",
       "</div>"
      ],
      "text/plain": [
       "                  pickup             dropoff  passengers  distance  fare  \\\n",
       "0    2019-03-23 20:21:09 2019-03-23 20:27:24           1      1.60   7.0   \n",
       "1    2019-03-04 16:11:55 2019-03-04 16:19:00           1      0.79   5.0   \n",
       "2    2019-03-27 17:53:01 2019-03-27 18:00:25           1      1.37   7.5   \n",
       "3    2019-03-10 01:23:59 2019-03-10 01:49:51           1      7.70  27.0   \n",
       "4    2019-03-30 13:27:42 2019-03-30 13:37:14           3      2.16   9.0   \n",
       "...                  ...                 ...         ...       ...   ...   \n",
       "6428 2019-03-31 09:51:53 2019-03-31 09:55:27           1      0.75   4.5   \n",
       "6429 2019-03-31 17:38:00 2019-03-31 18:34:23           1     18.74  58.0   \n",
       "6430 2019-03-23 22:55:18 2019-03-23 23:14:25           1      4.14  16.0   \n",
       "6431 2019-03-04 10:09:25 2019-03-04 10:14:29           1      1.12   6.0   \n",
       "6432 2019-03-13 19:31:22 2019-03-13 19:48:02           1      3.85  15.0   \n",
       "\n",
       "       tip  tolls  total   color      payment            pickup_zone  \\\n",
       "0     2.15    0.0  12.95  yellow  credit card        Lenox Hill West   \n",
       "1     0.00    0.0   9.30  yellow         cash  Upper West Side South   \n",
       "2     2.36    0.0  14.16  yellow  credit card          Alphabet City   \n",
       "3     6.15    0.0  36.95  yellow  credit card              Hudson Sq   \n",
       "4     1.10    0.0  13.40  yellow  credit card           Midtown East   \n",
       "...    ...    ...    ...     ...          ...                    ...   \n",
       "6428  1.06    0.0   6.36   green  credit card      East Harlem North   \n",
       "6429  0.00    0.0  58.80   green  credit card                Jamaica   \n",
       "6430  0.00    0.0  17.30   green         cash    Crown Heights North   \n",
       "6431  0.00    0.0   6.80   green  credit card          East New York   \n",
       "6432  3.36    0.0  20.16   green  credit card            Boerum Hill   \n",
       "\n",
       "                          dropoff_zone pickup_borough dropoff_borough  \n",
       "0                  UN/Turtle Bay South      Manhattan       Manhattan  \n",
       "1                Upper West Side South      Manhattan       Manhattan  \n",
       "2                         West Village      Manhattan       Manhattan  \n",
       "3                       Yorkville West      Manhattan       Manhattan  \n",
       "4                       Yorkville West      Manhattan       Manhattan  \n",
       "...                                ...            ...             ...  \n",
       "6428              Central Harlem North      Manhattan       Manhattan  \n",
       "6429  East Concourse/Concourse Village         Queens           Bronx  \n",
       "6430                    Bushwick North       Brooklyn        Brooklyn  \n",
       "6431      East Flatbush/Remsen Village       Brooklyn        Brooklyn  \n",
       "6432                   Windsor Terrace       Brooklyn        Brooklyn  \n",
       "\n",
       "[6433 rows x 14 columns]"
      ]
     },
     "execution_count": 9,
     "metadata": {},
     "output_type": "execute_result"
    }
   ],
   "source": [
    "df=sns.load_dataset('taxis')\n",
    "df"
   ]
  },
  {
   "cell_type": "code",
   "execution_count": 11,
   "id": "131c6b94-ba98-49f0-86b7-fc80d11dba97",
   "metadata": {},
   "outputs": [
    {
     "data": {
      "text/plain": [
       "pandas.core.frame.DataFrame"
      ]
     },
     "execution_count": 11,
     "metadata": {},
     "output_type": "execute_result"
    }
   ],
   "source": [
    "type(df)"
   ]
  },
  {
   "cell_type": "code",
   "execution_count": 13,
   "id": "422b01c0-741d-4e5a-97f7-7d257daba8c4",
   "metadata": {},
   "outputs": [
    {
     "data": {
      "text/plain": [
       "(6433, 14)"
      ]
     },
     "execution_count": 13,
     "metadata": {},
     "output_type": "execute_result"
    }
   ],
   "source": [
    "df.shape"
   ]
  },
  {
   "cell_type": "code",
   "execution_count": 15,
   "id": "1d221ec5-1326-4f97-97e2-75d11b5ef3bf",
   "metadata": {},
   "outputs": [
    {
     "data": {
      "text/plain": [
       "Index(['pickup', 'dropoff', 'passengers', 'distance', 'fare', 'tip', 'tolls',\n",
       "       'total', 'color', 'payment', 'pickup_zone', 'dropoff_zone',\n",
       "       'pickup_borough', 'dropoff_borough'],\n",
       "      dtype='object')"
      ]
     },
     "execution_count": 15,
     "metadata": {},
     "output_type": "execute_result"
    }
   ],
   "source": [
    "df.columns"
   ]
  },
  {
   "cell_type": "raw",
   "id": "70ae1ff4-ccf0-47df-b32b-1255066f16c0",
   "metadata": {},
   "source": [
    "df['color'].unique()"
   ]
  },
  {
   "cell_type": "code",
   "execution_count": 17,
   "id": "1c55db8f-7266-40df-a90b-8a609fff59cd",
   "metadata": {},
   "outputs": [
    {
     "data": {
      "text/plain": [
       "array(['yellow', 'green'], dtype=object)"
      ]
     },
     "execution_count": 17,
     "metadata": {},
     "output_type": "execute_result"
    }
   ],
   "source": [
    "df['color'].unique()"
   ]
  },
  {
   "cell_type": "code",
   "execution_count": 19,
   "id": "b61cc052-5a83-4a0b-93d7-fa6a9ff1fb7f",
   "metadata": {},
   "outputs": [
    {
     "data": {
      "text/plain": [
       "color\n",
       "yellow    5451\n",
       "green      982\n",
       "Name: count, dtype: int64"
      ]
     },
     "execution_count": 19,
     "metadata": {},
     "output_type": "execute_result"
    }
   ],
   "source": [
    "df['color'].value_counts()"
   ]
  },
  {
   "cell_type": "code",
   "execution_count": 21,
   "id": "7f28ba8e-5710-4e85-8108-65423d5b48f0",
   "metadata": {},
   "outputs": [
    {
     "data": {
      "text/plain": [
       "array(['credit card', 'cash', nan], dtype=object)"
      ]
     },
     "execution_count": 21,
     "metadata": {},
     "output_type": "execute_result"
    }
   ],
   "source": [
    "df['payment'].unique()"
   ]
  },
  {
   "cell_type": "code",
   "execution_count": 23,
   "id": "e14b88c0-5059-4496-8168-fd62d6232ea6",
   "metadata": {},
   "outputs": [
    {
     "data": {
      "text/plain": [
       "6399"
      ]
     },
     "execution_count": 23,
     "metadata": {},
     "output_type": "execute_result"
    }
   ],
   "source": [
    "4577+1822"
   ]
  },
  {
   "cell_type": "code",
   "execution_count": 25,
   "id": "abb64563-5d41-45fc-a694-cd2aff109c51",
   "metadata": {},
   "outputs": [
    {
     "name": "stdout",
     "output_type": "stream",
     "text": [
      "<class 'pandas.core.frame.DataFrame'>\n",
      "RangeIndex: 6433 entries, 0 to 6432\n",
      "Data columns (total 14 columns):\n",
      " #   Column           Non-Null Count  Dtype         \n",
      "---  ------           --------------  -----         \n",
      " 0   pickup           6433 non-null   datetime64[ns]\n",
      " 1   dropoff          6433 non-null   datetime64[ns]\n",
      " 2   passengers       6433 non-null   int64         \n",
      " 3   distance         6433 non-null   float64       \n",
      " 4   fare             6433 non-null   float64       \n",
      " 5   tip              6433 non-null   float64       \n",
      " 6   tolls            6433 non-null   float64       \n",
      " 7   total            6433 non-null   float64       \n",
      " 8   color            6433 non-null   object        \n",
      " 9   payment          6389 non-null   object        \n",
      " 10  pickup_zone      6407 non-null   object        \n",
      " 11  dropoff_zone     6388 non-null   object        \n",
      " 12  pickup_borough   6407 non-null   object        \n",
      " 13  dropoff_borough  6388 non-null   object        \n",
      "dtypes: datetime64[ns](2), float64(5), int64(1), object(6)\n",
      "memory usage: 703.7+ KB\n"
     ]
    }
   ],
   "source": [
    "df.info()"
   ]
  },
  {
   "cell_type": "code",
   "execution_count": 37,
   "id": "54689e6a-197a-42b8-ae4f-16044784f153",
   "metadata": {},
   "outputs": [
    {
     "data": {
      "text/html": [
       "<div>\n",
       "<style scoped>\n",
       "    .dataframe tbody tr th:only-of-type {\n",
       "        vertical-align: middle;\n",
       "    }\n",
       "\n",
       "    .dataframe tbody tr th {\n",
       "        vertical-align: top;\n",
       "    }\n",
       "\n",
       "    .dataframe thead th {\n",
       "        text-align: right;\n",
       "    }\n",
       "</style>\n",
       "<table border=\"1\" class=\"dataframe\">\n",
       "  <thead>\n",
       "    <tr style=\"text-align: right;\">\n",
       "      <th></th>\n",
       "      <th>distance</th>\n",
       "      <th>total</th>\n",
       "      <th>payment</th>\n",
       "    </tr>\n",
       "  </thead>\n",
       "  <tbody>\n",
       "    <tr>\n",
       "      <th>2</th>\n",
       "      <td>1.37</td>\n",
       "      <td>14.16</td>\n",
       "      <td>credit card</td>\n",
       "    </tr>\n",
       "    <tr>\n",
       "      <th>3</th>\n",
       "      <td>7.70</td>\n",
       "      <td>36.95</td>\n",
       "      <td>credit card</td>\n",
       "    </tr>\n",
       "    <tr>\n",
       "      <th>4</th>\n",
       "      <td>2.16</td>\n",
       "      <td>13.40</td>\n",
       "      <td>credit card</td>\n",
       "    </tr>\n",
       "    <tr>\n",
       "      <th>5</th>\n",
       "      <td>0.49</td>\n",
       "      <td>12.96</td>\n",
       "      <td>credit card</td>\n",
       "    </tr>\n",
       "    <tr>\n",
       "      <th>6</th>\n",
       "      <td>3.65</td>\n",
       "      <td>18.80</td>\n",
       "      <td>credit card</td>\n",
       "    </tr>\n",
       "    <tr>\n",
       "      <th>7</th>\n",
       "      <td>1.40</td>\n",
       "      <td>11.80</td>\n",
       "      <td>NaN</td>\n",
       "    </tr>\n",
       "    <tr>\n",
       "      <th>8</th>\n",
       "      <td>3.63</td>\n",
       "      <td>19.30</td>\n",
       "      <td>credit card</td>\n",
       "    </tr>\n",
       "    <tr>\n",
       "      <th>9</th>\n",
       "      <td>1.52</td>\n",
       "      <td>13.30</td>\n",
       "      <td>credit card</td>\n",
       "    </tr>\n",
       "    <tr>\n",
       "      <th>10</th>\n",
       "      <td>3.90</td>\n",
       "      <td>17.80</td>\n",
       "      <td>cash</td>\n",
       "    </tr>\n",
       "  </tbody>\n",
       "</table>\n",
       "</div>"
      ],
      "text/plain": [
       "    distance  total      payment\n",
       "2       1.37  14.16  credit card\n",
       "3       7.70  36.95  credit card\n",
       "4       2.16  13.40  credit card\n",
       "5       0.49  12.96  credit card\n",
       "6       3.65  18.80  credit card\n",
       "7       1.40  11.80          NaN\n",
       "8       3.63  19.30  credit card\n",
       "9       1.52  13.30  credit card\n",
       "10      3.90  17.80         cash"
      ]
     },
     "execution_count": 37,
     "metadata": {},
     "output_type": "execute_result"
    }
   ],
   "source": [
    "df.loc[2:10,['distance','total','payment']]"
   ]
  },
  {
   "cell_type": "code",
   "execution_count": 41,
   "id": "06e16afb-ee34-4f5b-938a-32454889e029",
   "metadata": {},
   "outputs": [
    {
     "data": {
      "text/html": [
       "<div>\n",
       "<style scoped>\n",
       "    .dataframe tbody tr th:only-of-type {\n",
       "        vertical-align: middle;\n",
       "    }\n",
       "\n",
       "    .dataframe tbody tr th {\n",
       "        vertical-align: top;\n",
       "    }\n",
       "\n",
       "    .dataframe thead th {\n",
       "        text-align: right;\n",
       "    }\n",
       "</style>\n",
       "<table border=\"1\" class=\"dataframe\">\n",
       "  <thead>\n",
       "    <tr style=\"text-align: right;\">\n",
       "      <th></th>\n",
       "      <th>distance</th>\n",
       "      <th>fare</th>\n",
       "      <th>tip</th>\n",
       "      <th>tolls</th>\n",
       "      <th>total</th>\n",
       "      <th>color</th>\n",
       "    </tr>\n",
       "  </thead>\n",
       "  <tbody>\n",
       "    <tr>\n",
       "      <th>2</th>\n",
       "      <td>1.37</td>\n",
       "      <td>7.5</td>\n",
       "      <td>2.36</td>\n",
       "      <td>0.0</td>\n",
       "      <td>14.16</td>\n",
       "      <td>yellow</td>\n",
       "    </tr>\n",
       "    <tr>\n",
       "      <th>3</th>\n",
       "      <td>7.70</td>\n",
       "      <td>27.0</td>\n",
       "      <td>6.15</td>\n",
       "      <td>0.0</td>\n",
       "      <td>36.95</td>\n",
       "      <td>yellow</td>\n",
       "    </tr>\n",
       "    <tr>\n",
       "      <th>4</th>\n",
       "      <td>2.16</td>\n",
       "      <td>9.0</td>\n",
       "      <td>1.10</td>\n",
       "      <td>0.0</td>\n",
       "      <td>13.40</td>\n",
       "      <td>yellow</td>\n",
       "    </tr>\n",
       "    <tr>\n",
       "      <th>5</th>\n",
       "      <td>0.49</td>\n",
       "      <td>7.5</td>\n",
       "      <td>2.16</td>\n",
       "      <td>0.0</td>\n",
       "      <td>12.96</td>\n",
       "      <td>yellow</td>\n",
       "    </tr>\n",
       "    <tr>\n",
       "      <th>6</th>\n",
       "      <td>3.65</td>\n",
       "      <td>13.0</td>\n",
       "      <td>2.00</td>\n",
       "      <td>0.0</td>\n",
       "      <td>18.80</td>\n",
       "      <td>yellow</td>\n",
       "    </tr>\n",
       "    <tr>\n",
       "      <th>7</th>\n",
       "      <td>1.40</td>\n",
       "      <td>8.5</td>\n",
       "      <td>0.00</td>\n",
       "      <td>0.0</td>\n",
       "      <td>11.80</td>\n",
       "      <td>yellow</td>\n",
       "    </tr>\n",
       "    <tr>\n",
       "      <th>8</th>\n",
       "      <td>3.63</td>\n",
       "      <td>15.0</td>\n",
       "      <td>1.00</td>\n",
       "      <td>0.0</td>\n",
       "      <td>19.30</td>\n",
       "      <td>yellow</td>\n",
       "    </tr>\n",
       "    <tr>\n",
       "      <th>9</th>\n",
       "      <td>1.52</td>\n",
       "      <td>8.0</td>\n",
       "      <td>1.00</td>\n",
       "      <td>0.0</td>\n",
       "      <td>13.30</td>\n",
       "      <td>yellow</td>\n",
       "    </tr>\n",
       "  </tbody>\n",
       "</table>\n",
       "</div>"
      ],
      "text/plain": [
       "   distance  fare   tip  tolls  total   color\n",
       "2      1.37   7.5  2.36    0.0  14.16  yellow\n",
       "3      7.70  27.0  6.15    0.0  36.95  yellow\n",
       "4      2.16   9.0  1.10    0.0  13.40  yellow\n",
       "5      0.49   7.5  2.16    0.0  12.96  yellow\n",
       "6      3.65  13.0  2.00    0.0  18.80  yellow\n",
       "7      1.40   8.5  0.00    0.0  11.80  yellow\n",
       "8      3.63  15.0  1.00    0.0  19.30  yellow\n",
       "9      1.52   8.0  1.00    0.0  13.30  yellow"
      ]
     },
     "execution_count": 41,
     "metadata": {},
     "output_type": "execute_result"
    }
   ],
   "source": [
    "df.iloc[2:10,3:9]"
   ]
  },
  {
   "cell_type": "code",
   "execution_count": null,
   "id": "9a3e3d58-4ca5-418b-bfc1-80847ee1b40f",
   "metadata": {},
   "outputs": [],
   "source": []
  }
 ],
 "metadata": {
  "kernelspec": {
   "display_name": "Python [conda env:base] *",
   "language": "python",
   "name": "conda-base-py"
  },
  "language_info": {
   "codemirror_mode": {
    "name": "ipython",
    "version": 3
   },
   "file_extension": ".py",
   "mimetype": "text/x-python",
   "name": "python",
   "nbconvert_exporter": "python",
   "pygments_lexer": "ipython3",
   "version": "3.12.7"
  }
 },
 "nbformat": 4,
 "nbformat_minor": 5
}
