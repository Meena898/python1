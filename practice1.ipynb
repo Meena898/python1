{
 "cells": [
  {
   "cell_type": "code",
   "execution_count": 37,
   "id": "b504e37e-104b-40e0-9f05-e8a707d40cab",
   "metadata": {},
   "outputs": [
    {
     "data": {
      "text/plain": [
       "67"
      ]
     },
     "execution_count": 37,
     "metadata": {},
     "output_type": "execute_result"
    }
   ],
   "source": [
    "a=67\n",
    "a"
   ]
  },
  {
   "cell_type": "code",
   "execution_count": 38,
   "id": "08bb8863-9bdd-4de8-823e-0e2d25232b58",
   "metadata": {},
   "outputs": [
    {
     "data": {
      "text/plain": [
       "int"
      ]
     },
     "execution_count": 38,
     "metadata": {},
     "output_type": "execute_result"
    }
   ],
   "source": [
    "type(a)"
   ]
  },
  {
   "cell_type": "code",
   "execution_count": 39,
   "id": "349dfae6-8765-43d7-8b86-b41cc5f1c212",
   "metadata": {},
   "outputs": [
    {
     "data": {
      "text/plain": [
       "6.5"
      ]
     },
     "execution_count": 39,
     "metadata": {},
     "output_type": "execute_result"
    }
   ],
   "source": [
    "b=6.5\n",
    "b"
   ]
  },
  {
   "cell_type": "code",
   "execution_count": 40,
   "id": "153cb780-d8af-4fa5-91d9-f8d312694966",
   "metadata": {},
   "outputs": [
    {
     "data": {
      "text/plain": [
       "float"
      ]
     },
     "execution_count": 40,
     "metadata": {},
     "output_type": "execute_result"
    }
   ],
   "source": [
    "type(b)\n"
   ]
  },
  {
   "cell_type": "code",
   "execution_count": 41,
   "id": "eef15060-9625-4cb8-b920-dbedfce48bbd",
   "metadata": {},
   "outputs": [
    {
     "data": {
      "text/plain": [
       "str"
      ]
     },
     "execution_count": 41,
     "metadata": {},
     "output_type": "execute_result"
    }
   ],
   "source": [
    "s=\"kornepati\"\n",
    "type(s)"
   ]
  },
  {
   "cell_type": "code",
   "execution_count": 42,
   "id": "c61e0361-b08e-4907-a838-dec4fa98c2b4",
   "metadata": {},
   "outputs": [
    {
     "data": {
      "text/plain": [
       "str"
      ]
     },
     "execution_count": 42,
     "metadata": {},
     "output_type": "execute_result"
    }
   ],
   "source": [
    "c=\"Meena\"\n",
    "type(c)"
   ]
  },
  {
   "cell_type": "code",
   "execution_count": 43,
   "id": "0d29ccce-b4f8-4136-a46b-7a3cc1453508",
   "metadata": {},
   "outputs": [
    {
     "data": {
      "text/plain": [
       "'kornepatiMeena'"
      ]
     },
     "execution_count": 43,
     "metadata": {},
     "output_type": "execute_result"
    }
   ],
   "source": [
    "s+c\n"
   ]
  },
  {
   "cell_type": "markdown",
   "id": "b0774bd4-2bfd-466b-bbf6-0c3a32951242",
   "metadata": {},
   "source": [
    "c+s"
   ]
  },
  {
   "cell_type": "markdown",
   "id": "cdc34645-3524-4872-bfd5-4ff15b835612",
   "metadata": {},
   "source": [
    "a+b"
   ]
  },
  {
   "cell_type": "markdown",
   "id": "a9f65e6e-5ce7-4ba1-9cce-b011f256dd77",
   "metadata": {},
   "source": [
    "### addition +\n",
    "### subtraction -\n",
    "### multiplication *\n",
    "### division /\n",
    "### remainder %\n",
    "### power **\n",
    "### floor division //"
   ]
  },
  {
   "cell_type": "markdown",
   "id": "5c78cd18-2168-47c6-b8c6-345613813fa6",
   "metadata": {},
   "source": [
    "a=109\n",
    "b=3"
   ]
  },
  {
   "cell_type": "markdown",
   "id": "aa67bb13-bd6e-44d1-9892-8010b0448a64",
   "metadata": {},
   "source": [
    "a=5\n",
    "b=9\n"
   ]
  },
  {
   "cell_type": "code",
   "execution_count": 49,
   "id": "3a649d2e-e52a-42e0-b0ad-f58b1f39c90b",
   "metadata": {},
   "outputs": [],
   "source": [
    "a=109\n",
    "b=3\n"
   ]
  },
  {
   "cell_type": "code",
   "execution_count": 50,
   "id": "59cf2909-66ed-4aa2-a13c-146187c00848",
   "metadata": {},
   "outputs": [],
   "source": [
    "a=10\n",
    "b=5"
   ]
  },
  {
   "cell_type": "code",
   "execution_count": 51,
   "id": "ccc2406f-6c40-4d21-ad9c-c9ba333a0aef",
   "metadata": {},
   "outputs": [
    {
     "data": {
      "text/plain": [
       "50"
      ]
     },
     "execution_count": 51,
     "metadata": {},
     "output_type": "execute_result"
    }
   ],
   "source": [
    "a*b"
   ]
  },
  {
   "cell_type": "code",
   "execution_count": 52,
   "id": "09e3f494-4df3-4e5c-831f-51ccbc2d7428",
   "metadata": {},
   "outputs": [],
   "source": [
    "a=11\n",
    "b=12"
   ]
  },
  {
   "cell_type": "code",
   "execution_count": 53,
   "id": "4c9d2fd1-aba3-4fa5-9e28-a25ac529314b",
   "metadata": {},
   "outputs": [
    {
     "data": {
      "text/plain": [
       "132"
      ]
     },
     "execution_count": 53,
     "metadata": {},
     "output_type": "execute_result"
    }
   ],
   "source": [
    "a*b"
   ]
  },
  {
   "cell_type": "raw",
   "id": "17b38f19-45a9-4525-ba7a-b26a0af0b0f2",
   "metadata": {},
   "source": [
    "a=109\n",
    "b=3"
   ]
  },
  {
   "cell_type": "code",
   "execution_count": 54,
   "id": "99a69b1e-e0aa-4c2d-9180-eb79735616ea",
   "metadata": {},
   "outputs": [
    {
     "data": {
      "text/plain": [
       "23"
      ]
     },
     "execution_count": 54,
     "metadata": {},
     "output_type": "execute_result"
    }
   ],
   "source": [
    "a+b"
   ]
  },
  {
   "cell_type": "code",
   "execution_count": 55,
   "id": "a3fe268c-b42e-4bac-bd98-30678bbeeca9",
   "metadata": {},
   "outputs": [],
   "source": [
    "a=109\n",
    "b=3\n"
   ]
  },
  {
   "cell_type": "code",
   "execution_count": 56,
   "id": "252cdec9-4e67-4b7f-9561-0b4fcf46e2d0",
   "metadata": {},
   "outputs": [],
   "source": [
    "z=a/b\n"
   ]
  },
  {
   "cell_type": "code",
   "execution_count": 74,
   "id": "43a16a53-0905-485f-8d67-7c10d2af0fb7",
   "metadata": {},
   "outputs": [],
   "source": [
    "m= 50\n",
    "r = 51\n"
   ]
  },
  {
   "cell_type": "code",
   "execution_count": 78,
   "id": "32dd2d89-4fb3-4851-8078-8a695066d25d",
   "metadata": {},
   "outputs": [
    {
     "data": {
      "text/plain": [
       "False"
      ]
     },
     "execution_count": 78,
     "metadata": {},
     "output_type": "execute_result"
    }
   ],
   "source": [
    "n= m > r\n",
    "n"
   ]
  },
  {
   "cell_type": "code",
   "execution_count": 80,
   "id": "445a7519-81f2-4c96-aee1-ad3d92f92cd8",
   "metadata": {},
   "outputs": [
    {
     "data": {
      "text/plain": [
       "True"
      ]
     },
     "execution_count": 80,
     "metadata": {},
     "output_type": "execute_result"
    }
   ],
   "source": [
    "n = m < r\n",
    "n"
   ]
  },
  {
   "cell_type": "code",
   "execution_count": 82,
   "id": "c8b58707-09d2-4adb-8509-cb1fb3e4c7da",
   "metadata": {},
   "outputs": [
    {
     "data": {
      "text/plain": [
       "51"
      ]
     },
     "execution_count": 82,
     "metadata": {},
     "output_type": "execute_result"
    }
   ],
   "source": [
    "n = m = r\n",
    "n"
   ]
  },
  {
   "cell_type": "code",
   "execution_count": 84,
   "id": "d829577c-97c3-43c2-bcb8-6ce166d332c4",
   "metadata": {},
   "outputs": [
    {
     "data": {
      "text/plain": [
       "True"
      ]
     },
     "execution_count": 84,
     "metadata": {},
     "output_type": "execute_result"
    }
   ],
   "source": [
    "m == r"
   ]
  },
  {
   "cell_type": "code",
   "execution_count": 88,
   "id": "868b9302-b729-4901-a0d6-9ff1a36b25aa",
   "metadata": {},
   "outputs": [],
   "source": [
    "m = r"
   ]
  },
  {
   "cell_type": "code",
   "execution_count": 90,
   "id": "8dbae281-a0ea-4a1a-912d-1fd7a098ba89",
   "metadata": {},
   "outputs": [],
   "source": [
    "a=6\n",
    "b=6"
   ]
  },
  {
   "cell_type": "code",
   "execution_count": 94,
   "id": "fdfc4484-e6c9-4d33-9cfe-f44d12c64753",
   "metadata": {},
   "outputs": [
    {
     "data": {
      "text/plain": [
       "6"
      ]
     },
     "execution_count": 94,
     "metadata": {},
     "output_type": "execute_result"
    }
   ],
   "source": [
    "z=a=b\n",
    "z"
   ]
  },
  {
   "cell_type": "code",
   "execution_count": 96,
   "id": "276ab4e9-d8ee-4628-adfd-34f9a5a7f4cf",
   "metadata": {},
   "outputs": [
    {
     "data": {
      "text/plain": [
       "True"
      ]
     },
     "execution_count": 96,
     "metadata": {},
     "output_type": "execute_result"
    }
   ],
   "source": [
    "z=a==b\n",
    "z"
   ]
  },
  {
   "cell_type": "code",
   "execution_count": 3,
   "id": "9706cae2-06a6-4712-b1d1-657ac87e50a5",
   "metadata": {},
   "outputs": [
    {
     "data": {
      "text/plain": [
       "['meena', 'rrkk', 'preranaa']"
      ]
     },
     "execution_count": 3,
     "metadata": {},
     "output_type": "execute_result"
    }
   ],
   "source": [
    "list=[\"meena\",\"rrkk\",\"preranaa\"]\n",
    "list"
   ]
  },
  {
   "cell_type": "code",
   "execution_count": 5,
   "id": "c9e4b7d1-eadd-47f0-b464-894426a87783",
   "metadata": {},
   "outputs": [
    {
     "data": {
      "text/plain": [
       "[1, 2, 3]"
      ]
     },
     "execution_count": 5,
     "metadata": {},
     "output_type": "execute_result"
    }
   ],
   "source": [
    "list=[1,2,3]\n",
    "list"
   ]
  },
  {
   "cell_type": "code",
   "execution_count": 9,
   "id": "b424aacc-70de-44c0-87dc-e99d338f5f5f",
   "metadata": {},
   "outputs": [
    {
     "data": {
      "text/plain": [
       "['oranges', 'bananas', 'mangoes']"
      ]
     },
     "execution_count": 9,
     "metadata": {},
     "output_type": "execute_result"
    }
   ],
   "source": [
    "fruits=['apples','oranges','bananas','mangoes','grapes','strawberry']\n",
    "(fruits[1:4])"
   ]
  },
  {
   "cell_type": "code",
   "execution_count": 35,
   "id": "b0cbbc79-f708-4fa4-be44-16b2c4a00d47",
   "metadata": {},
   "outputs": [
    {
     "name": "stdout",
     "output_type": "stream",
     "text": [
      "[1, 2, 3, 4, 5]\n",
      "['apple', 'banana', 'blueberry']\n",
      "[1.1, 2.2, 3.3, 4.4]\n"
     ]
    }
   ],
   "source": [
    "\n",
    "list = [1, 2, 3, 4, 5]\n",
    "print(list)\n",
    "list = [\"apple\", \"banana\", \"blueberry\"]\n",
    "print(list)\n",
    "list = [1.1, 2.2, 3.3, 4.4]\n",
    "print(list)\n"
   ]
  },
  {
   "cell_type": "code",
   "execution_count": 27,
   "id": "389a6cbe-ac8b-452e-855d-651d1418b466",
   "metadata": {},
   "outputs": [
    {
     "data": {
      "text/plain": [
       "[1, 'apple', 3.14, True, None]"
      ]
     },
     "execution_count": 27,
     "metadata": {},
     "output_type": "execute_result"
    }
   ],
   "source": [
    "\n",
    "list = [1, \"apple\", 3.14, True, None]\n",
    "(list)\n"
   ]
  },
  {
   "cell_type": "code",
   "execution_count": 51,
   "id": "16461c57-8c8c-4507-99f2-0403fc4d9c68",
   "metadata": {},
   "outputs": [
    {
     "name": "stdout",
     "output_type": "stream",
     "text": [
      "True\n",
      "3.14\n",
      "apple\n"
     ]
    }
   ],
   "source": [
    "\n",
    "list = [1, \"apple\", 3.14, True, None]\n",
    "print(list[-2])\n",
    "print(list[-3])\n",
    "print(list[-4])\n"
   ]
  },
  {
   "cell_type": "code",
   "execution_count": 33,
   "id": "ea5b234d-1dc7-43ed-a745-103ea1251c03",
   "metadata": {},
   "outputs": [
    {
     "data": {
      "text/plain": [
       "[1, 2, 3]"
      ]
     },
     "execution_count": 33,
     "metadata": {},
     "output_type": "execute_result"
    }
   ],
   "source": [
    "list=[1,2,3,4,5]\n",
    "(list[0:3])"
   ]
  },
  {
   "cell_type": "code",
   "execution_count": 37,
   "id": "84b9002c-0a7f-4089-b945-2660a8a4c58a",
   "metadata": {},
   "outputs": [
    {
     "data": {
      "text/plain": [
       "[2, 3, 4]"
      ]
     },
     "execution_count": 37,
     "metadata": {},
     "output_type": "execute_result"
    }
   ],
   "source": [
    "my_list = [0, 1, 2, 3, 4, 5, 6, 7, 8, 9]\n",
    "(my_list[2:5])\n"
   ]
  },
  {
   "cell_type": "code",
   "execution_count": 47,
   "id": "8c8c19b3-1615-46fe-801a-8f502c7d4903",
   "metadata": {},
   "outputs": [
    {
     "data": {
      "text/plain": [
       "8"
      ]
     },
     "execution_count": 47,
     "metadata": {},
     "output_type": "execute_result"
    }
   ],
   "source": [
    "my_list = [1,2,3,4,5,6,7,8,9]\n",
    "(my_list[-2])"
   ]
  },
  {
   "cell_type": "code",
   "execution_count": 53,
   "id": "1d66fe7a-d28b-4428-852a-50a7c82a4c9d",
   "metadata": {},
   "outputs": [
    {
     "data": {
      "text/plain": [
       "[6, 7]"
      ]
     },
     "execution_count": 53,
     "metadata": {},
     "output_type": "execute_result"
    }
   ],
   "source": [
    "my_list = [1,2,3,4,5,6,7,8,9]\n",
    "(my_list[-4:-2])"
   ]
  },
  {
   "cell_type": "code",
   "execution_count": 45,
   "id": "3abf2b49-1c4c-4c06-b00f-f7789ee713b3",
   "metadata": {},
   "outputs": [
    {
     "name": "stdout",
     "output_type": "stream",
     "text": [
      "50\n",
      "40\n",
      "30\n",
      "20\n",
      "10\n"
     ]
    }
   ],
   "source": [
    "my_list = [10, 20, 30, 40, 50]\n",
    "print(my_list[-1])  \n",
    "print(my_list[-2])  \n",
    "print(my_list[-3])  \n",
    "print(my_list[-4]) \n",
    "print(my_list[-5])  \n"
   ]
  },
  {
   "cell_type": "code",
   "execution_count": 59,
   "id": "06e31b38-b078-4153-9e72-8de63ab59888",
   "metadata": {},
   "outputs": [
    {
     "name": "stdout",
     "output_type": "stream",
     "text": [
      "['cat', 'elephant', 'lion', 'pig']\n"
     ]
    }
   ],
   "source": [
    "animals = ['cat', 'elephant', 'lion']\n",
    "animals.append('pig')\n",
    "\n",
    "print(animals)"
   ]
  },
  {
   "cell_type": "code",
   "execution_count": 61,
   "id": "b3aa5191-aa67-4e65-a1cd-bb315489f171",
   "metadata": {},
   "outputs": [
    {
     "name": "stdout",
     "output_type": "stream",
     "text": [
      "List: []\n"
     ]
    }
   ],
   "source": [
    "ist = [{1, 2}, (\"Mina\"), {6,7}]\n",
    "list.clear()\n",
    "print('List:', list)"
   ]
  }
 ],
 "metadata": {
  "kernelspec": {
   "display_name": "Python [conda env:base] *",
   "language": "python",
   "name": "conda-base-py"
  },
  "language_info": {
   "codemirror_mode": {
    "name": "ipython",
    "version": 3
   },
   "file_extension": ".py",
   "mimetype": "text/x-python",
   "name": "python",
   "nbconvert_exporter": "python",
   "pygments_lexer": "ipython3",
   "version": "3.12.7"
  }
 },
 "nbformat": 4,
 "nbformat_minor": 5
}
